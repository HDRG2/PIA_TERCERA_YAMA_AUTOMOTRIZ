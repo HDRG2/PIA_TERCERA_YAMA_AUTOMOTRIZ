{
 "cells": [
  {
   "cell_type": "code",
   "execution_count": null,
   "id": "dc3be047",
   "metadata": {},
   "outputs": [],
   "source": [
    "'''\n",
    "Crear un diccionario para controlar las ciudades con más población\n",
    "en el país (valores en millones).\n",
    "Valle de México 21.8 millones\n",
    "Monterrey 5.3\n",
    "Guadalajara 5.3\n",
    "Puebla-Tlaxcala 3.2\n",
    "Toluca 2.4\n",
    "Tijuana 2.2\n",
    "León 1.9\n",
    "Querétaro 1.6\n",
    "Juárez 1.5\n",
    "La Laguna 1.4\n",
    "'''\n",
    "dpoblacion = {\n",
    "'Valle de México' : 21.8,    \n",
    "'Monterrey' : 5.3,\n",
    "'Guadalajara' : 5.3,\n",
    "'Puebla' : 3.2,\n",
    "'Toluca' : 2.4,\n",
    "'Tijuana' : 2.2,\n",
    "'León' : 1.9,\n",
    "'Querétaro' : 1.6,\n",
    "'Juárez' : 1.5,\n",
    "'La Laguna' : 1.4\n",
    "}"
   ]
  },
  {
   "cell_type": "code",
   "execution_count": null,
   "id": "6374a519",
   "metadata": {},
   "outputs": [],
   "source": [
    "dpoblacion"
   ]
  },
  {
   "cell_type": "code",
   "execution_count": null,
   "id": "3fdaf3e7",
   "metadata": {},
   "outputs": [],
   "source": [
    "'''\n",
    "Se puede acceder a un valor en específico con la sintaxis diccionario[clave].\n",
    "'''\n",
    "# Mostrar la población de 'Monterrey'.\n",
    "dpoblacion['Monterrey']"
   ]
  },
  {
   "cell_type": "code",
   "execution_count": null,
   "id": "ff010b32",
   "metadata": {},
   "outputs": [],
   "source": [
    "'''\n",
    "Para modificar un elemento basta con usar [] con el nombre del key \n",
    "y asignar el valor que queremos.\n",
    "diccionario[key] = newValue\n",
    "'''\n",
    "# Actualizar la población de 'Monterrey' a 5.5 millones.\n",
    "dpoblacion['Monterrey'] = 5.5"
   ]
  },
  {
   "cell_type": "code",
   "execution_count": null,
   "id": "990bd7a9",
   "metadata": {},
   "outputs": [],
   "source": [
    "dpoblacion"
   ]
  },
  {
   "cell_type": "code",
   "execution_count": null,
   "id": "22f00281",
   "metadata": {},
   "outputs": [],
   "source": [
    "'''\n",
    "clear(): método que elimina todo el contenido del diccionario.\n",
    "diccionario.clear()\n",
    "'''\n",
    "# Eliminar el contenido del diccionario.\n",
    "dpoblacion.clear()"
   ]
  },
  {
   "cell_type": "code",
   "execution_count": null,
   "id": "b3d12b74",
   "metadata": {},
   "outputs": [],
   "source": [
    "dpoblacion"
   ]
  },
  {
   "cell_type": "code",
   "execution_count": null,
   "id": "1daf6a1e",
   "metadata": {},
   "outputs": [],
   "source": [
    "'''\n",
    "El método get() nos permite consultar el value para un key determinado. \n",
    "El segundo parámetro es opcional, y en el caso de proporcionarlo es el \n",
    "valor a devolver si no se encuentra la key.\n",
    "diccionario.get(key,'Mensaje sino lo encuentra')\n",
    "'''\n",
    "# Mostrar la población de 'Toluca'\n",
    "dpoblacion.get('Toluca','No se encontró la ciudad')"
   ]
  },
  {
   "cell_type": "code",
   "execution_count": null,
   "id": "6162ddc3",
   "metadata": {},
   "outputs": [],
   "source": [
    "dpoblacion.get('Escobedo','No se encontró la ciudad')"
   ]
  },
  {
   "cell_type": "code",
   "execution_count": null,
   "id": "e3cc7d13",
   "metadata": {},
   "outputs": [],
   "source": [
    "'''\n",
    "items(): método que devuelve una lista con los keys y values del diccionario. \n",
    "diccionario.items()\n",
    "'''\n",
    "# Mostrar los elementos del diccionario\n",
    "dpoblacion.items()"
   ]
  },
  {
   "cell_type": "code",
   "execution_count": null,
   "id": "a7bcbd2d",
   "metadata": {},
   "outputs": [],
   "source": [
    "'''\n",
    "keys(): método devuelve una lista con todas las keys del diccionario.\n",
    "diccionario.keys()\n",
    "'''\n",
    "# Mostrar todas las ciudades del diccionario.\n",
    "dpoblacion.keys()"
   ]
  },
  {
   "cell_type": "code",
   "execution_count": null,
   "id": "d164835e",
   "metadata": {},
   "outputs": [],
   "source": [
    "'''\n",
    "values()\n",
    "El método values() devuelve una lista con todos los values o valores del diccionario.\n",
    "diccionario.values()\n",
    "'''\n",
    "# Mostrar los valores del diccionario.\n",
    "dpoblacion.values()"
   ]
  },
  {
   "cell_type": "code",
   "execution_count": null,
   "id": "5ee732ad",
   "metadata": {},
   "outputs": [],
   "source": [
    "'''\n",
    "pop(<key>[,<default>]): método que busca y elimina la key que se pasa como parámetro \n",
    "y devuelve su valor asociado. Daría un error si se intenta eliminar una key que no existe.\n",
    "'''\n",
    "# Eliminar 'La Laguna'\n",
    "dpoblacion.pop('La Laguna','No se encontró el valor')"
   ]
  },
  {
   "cell_type": "code",
   "execution_count": null,
   "id": "13245936",
   "metadata": {},
   "outputs": [],
   "source": [
    "dpoblacion"
   ]
  },
  {
   "cell_type": "code",
   "execution_count": null,
   "id": "80685c50",
   "metadata": {},
   "outputs": [],
   "source": [
    "# Eliminar 'San Nicolás'\n",
    "dpoblacion.pop('San Nicolás','No se encontró el valor')"
   ]
  },
  {
   "cell_type": "code",
   "execution_count": null,
   "id": "619b300f",
   "metadata": {},
   "outputs": [],
   "source": [
    "'''\n",
    "Para agregar un elemento a un diccionario solo le tiene que asignar \n",
    "el valor, sino existe lo agrega.\n",
    "'''\n",
    "dpoblacion['Garcia'] = 1.1 "
   ]
  },
  {
   "cell_type": "code",
   "execution_count": null,
   "id": "8fdc507f",
   "metadata": {},
   "outputs": [],
   "source": [
    "# Menti 07"
   ]
  },
  {
   "cell_type": "code",
   "execution_count": null,
   "id": "1aac40e2",
   "metadata": {},
   "outputs": [],
   "source": [
    "'''\n",
    "popitem(): método que elimina el último elemento del diccionario.\n",
    "diccionario.popitem()\n",
    "'''\n",
    "# Eliminar la última ciudad.\n",
    "dpoblacion.popitem()"
   ]
  },
  {
   "cell_type": "code",
   "execution_count": null,
   "id": "39a1a01e",
   "metadata": {},
   "outputs": [],
   "source": [
    "dpoblacion"
   ]
  },
  {
   "cell_type": "code",
   "execution_count": null,
   "id": "e7d934b6",
   "metadata": {},
   "outputs": [],
   "source": [
    "'''\n",
    "copy(): este método devuelve una copia superficial del tipo diccionario.\n",
    "diccionario2 = diccionario.copy()\n",
    "'''\n",
    "# Copiar el dicccionario dpoblacion a dpoblacion2\n",
    "dpoblacion2 = dpoblacion.copy()"
   ]
  },
  {
   "cell_type": "code",
   "execution_count": null,
   "id": "be93ea01",
   "metadata": {},
   "outputs": [],
   "source": [
    "dpoblacion2"
   ]
  },
  {
   "cell_type": "code",
   "execution_count": null,
   "id": "c9fe1f0a",
   "metadata": {},
   "outputs": [],
   "source": [
    "'''\n",
    "len(): esta función es la misma función integrada len() en el interprete Python \n",
    "pero aplicada al uso de la secuencia de tipo diccionario.\n",
    "len(diccionario)\n",
    "'''\n",
    "# Indicar cuantos elementos tiene el diccionario dpoblación.\n",
    "len(dpoblacion)"
   ]
  },
  {
   "cell_type": "code",
   "execution_count": null,
   "id": "ec5ab006",
   "metadata": {},
   "outputs": [],
   "source": [
    "'''\n",
    "del: esta sentencia permite elminiar un valor de un diccionario.\n",
    "del diccionario[key]\n",
    "'''\n",
    "# Elminar de dpoblación a Puebla.\n",
    "del dpoblacion['Puebla']"
   ]
  },
  {
   "cell_type": "code",
   "execution_count": null,
   "id": "7e5b27c5",
   "metadata": {},
   "outputs": [],
   "source": [
    "dpoblacion"
   ]
  },
  {
   "cell_type": "code",
   "execution_count": null,
   "id": "a3a6f1cf",
   "metadata": {},
   "outputs": [],
   "source": [
    "'''\n",
    "Funciones de agregado:\n",
    "Cuando los valores (values) del dicccionario son de tipo numérico, es funcional usar \n",
    "funciones de agregado como:\n",
    "max(): Obtiene el número mayor de la lista.\n",
    "min(): Obtiene el número menor de la lista.\n",
    "sum(): Obtiene la súma de los valores de la lista.\n",
    "mean(): Obtiene el promedio de los valores de la lista.\n",
    "Para el uso del mean se tiene que importar la librería numpy.\n",
    "'''\n",
    "# Obtener el valor máximo.\n",
    "max(dpoblacion.values())"
   ]
  },
  {
   "cell_type": "code",
   "execution_count": null,
   "id": "1d000b35",
   "metadata": {},
   "outputs": [],
   "source": [
    "# Obtener el valor mínimo.\n",
    "min(dpoblacion.values())"
   ]
  },
  {
   "cell_type": "code",
   "execution_count": null,
   "id": "398a5206",
   "metadata": {},
   "outputs": [],
   "source": [
    "# Obtener la suma.\n",
    "sum(dpoblacion.values())"
   ]
  },
  {
   "cell_type": "code",
   "execution_count": null,
   "id": "7bcc3367",
   "metadata": {},
   "outputs": [],
   "source": [
    "# Obtener el promedio.\n",
    "round(sum(dpoblacion.values()) / len(dpoblacion),2)"
   ]
  },
  {
   "cell_type": "code",
   "execution_count": null,
   "id": "2223b677",
   "metadata": {},
   "outputs": [],
   "source": [
    "'''\n",
    "Un diccionario puede tener como valores listas.\n",
    "diccionario{\n",
    "key1:[valor1,valor2,valor3,valor4],\n",
    "key2:[valor1,valor2,valor3,valor4],\n",
    "key3:[valor1,valor2,valor3,valor4]\n",
    "}\n",
    "'''\n",
    "dalumnos = {\n",
    "    'Nombre' : ['Diego','Angelica','German','Ioshua'],\n",
    "    'ColorFavorito' : ['Rojo','Azul','Verde','Rojo'],\n",
    "    'Edad' : [18,19,21,18]\n",
    "}"
   ]
  },
  {
   "cell_type": "code",
   "execution_count": null,
   "id": "eb7d29c0",
   "metadata": {},
   "outputs": [],
   "source": [
    "dalumnos"
   ]
  },
  {
   "cell_type": "code",
   "execution_count": null,
   "id": "3aa1e32d",
   "metadata": {},
   "outputs": [],
   "source": [
    "# Menti 08"
   ]
  }
 ],
 "metadata": {
  "kernelspec": {
   "display_name": "Python 3 (ipykernel)",
   "language": "python",
   "name": "python3"
  },
  "language_info": {
   "codemirror_mode": {
    "name": "ipython",
    "version": 3
   },
   "file_extension": ".py",
   "mimetype": "text/x-python",
   "name": "python",
   "nbconvert_exporter": "python",
   "pygments_lexer": "ipython3",
   "version": "3.9.12"
  }
 },
 "nbformat": 4,
 "nbformat_minor": 5
}
