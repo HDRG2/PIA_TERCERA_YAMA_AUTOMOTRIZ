{
 "cells": [
  {
   "cell_type": "code",
   "execution_count": null,
   "id": "5aeade4a",
   "metadata": {},
   "outputs": [],
   "source": [
    "# Comentarios para una sola línea"
   ]
  },
  {
   "cell_type": "code",
   "execution_count": null,
   "id": "96768b52",
   "metadata": {},
   "outputs": [],
   "source": [
    "'''\n",
    "Comentarios\n",
    "para\n",
    "varias\n",
    "líneas\n",
    "'''"
   ]
  },
  {
   "cell_type": "code",
   "execution_count": null,
   "id": "00c6c4dd",
   "metadata": {},
   "outputs": [],
   "source": [
    "'''\n",
    "Crear una lista que tenga varios colores y esa lista guardarla en una \n",
    "variable llamada lcolores y mostrarla\n",
    "'''\n",
    "lcolores = [\"Rojo\",\"Verde\",\"Azul\",\"Blanco\",\"Amarillo\",\"Rosa\",\"Negro\",\"Morado\"]\n",
    "lcolores\n"
   ]
  },
  {
   "cell_type": "code",
   "execution_count": null,
   "id": "560911ac",
   "metadata": {},
   "outputs": [],
   "source": [
    "# Otra forma de mostrar la variable es usando print\n",
    "print(lcolores)"
   ]
  },
  {
   "cell_type": "code",
   "execution_count": null,
   "id": "a6b8693a",
   "metadata": {},
   "outputs": [],
   "source": [
    "print(\"Los colores son: \",lcolores)"
   ]
  },
  {
   "cell_type": "code",
   "execution_count": null,
   "id": "8eed8c7e",
   "metadata": {},
   "outputs": [],
   "source": [
    "# Mostrar solo el color Amarillo\n",
    "lcolores[4]"
   ]
  },
  {
   "cell_type": "code",
   "execution_count": null,
   "id": "0f873acd",
   "metadata": {},
   "outputs": [],
   "source": [
    "lcolores[-4]"
   ]
  },
  {
   "cell_type": "code",
   "execution_count": null,
   "id": "3eb5ebbe",
   "metadata": {},
   "outputs": [],
   "source": [
    "'''\n",
    "La función len() devuelve la longitud de la lista (su cantidad de elementos).\n",
    "'''\n",
    "# Mostrar la cantidad de elementos de la lista.\n",
    "len(lcolores)"
   ]
  },
  {
   "cell_type": "code",
   "execution_count": null,
   "id": "32108fd7",
   "metadata": {},
   "outputs": [],
   "source": [
    "'''\n",
    "El método append() agrega un elemento al final de una lista.\n",
    "'''\n",
    "# Agregar el color 'Anaranjado' a la lista.\n",
    "lcolores.append('Anaranjado')\n"
   ]
  },
  {
   "cell_type": "code",
   "execution_count": null,
   "id": "1ab8d4fe",
   "metadata": {},
   "outputs": [],
   "source": [
    "lcolores"
   ]
  },
  {
   "cell_type": "code",
   "execution_count": null,
   "id": "73813375",
   "metadata": {},
   "outputs": [],
   "source": [
    "'''\n",
    "count() es un método que recibe un elemento como argumento, y cuenta la cantidad de \n",
    "veces que aparece en la lista.\n",
    "'''\n",
    "# Indicar cuantas veces aparece el color anaranajado\n",
    "lcolores.count('Anaranjado')"
   ]
  },
  {
   "cell_type": "code",
   "execution_count": null,
   "id": "a5b6df01",
   "metadata": {},
   "outputs": [],
   "source": [
    "# Indicar cuantas veces aparece el color rojo\n",
    "lcolores.count('Rojo')"
   ]
  },
  {
   "cell_type": "code",
   "execution_count": null,
   "id": "feec4268",
   "metadata": {},
   "outputs": [],
   "source": [
    "'''\n",
    "extend(): este método extiende una lista agregando un iterable al final.\n",
    "Sirve para agregar varios elemento a la vez, en vez de usar varias veces\n",
    "append.\n",
    "'''\n",
    "# Agregar los colores Café, Celeste y Lila.\n",
    "lcolores.extend(['Café','Celeste','Lila'])"
   ]
  },
  {
   "cell_type": "code",
   "execution_count": null,
   "id": "7a37fd5b",
   "metadata": {},
   "outputs": [],
   "source": [
    "# Menti 04"
   ]
  },
  {
   "cell_type": "code",
   "execution_count": null,
   "id": "a4182a29",
   "metadata": {},
   "outputs": [],
   "source": [
    "lcolores"
   ]
  },
  {
   "cell_type": "code",
   "execution_count": null,
   "id": "e9c8254e",
   "metadata": {},
   "outputs": [],
   "source": [
    "'''\n",
    "index(): este método recibe un elemento como argumento, y devuelve el índice\n",
    "de su primera aparición en la lista.\n",
    "'''\n",
    "# Indicar en qué posición de la lista está el valor 'Blanco'.\n",
    "lcolores.index('Blanco')"
   ]
  },
  {
   "cell_type": "code",
   "execution_count": null,
   "id": "9c4242cd",
   "metadata": {},
   "outputs": [],
   "source": [
    "'''\n",
    "insert(i,x): este método inserta el elemento x en la lista, en el índice i.\n",
    "'''\n",
    "# Agregar el color 'Melón' en la posición que se encuentra el color 'Azul'.\n",
    "lcolores.insert(2,'Melón')"
   ]
  },
  {
   "cell_type": "code",
   "execution_count": null,
   "id": "bb2d30e9",
   "metadata": {},
   "outputs": [],
   "source": [
    "lcolores"
   ]
  },
  {
   "cell_type": "code",
   "execution_count": null,
   "id": "b9b78424",
   "metadata": {},
   "outputs": [],
   "source": [
    "'''\n",
    "pop(): este método devuelve el último elemento de la lista, \n",
    "y lo borra de la misma.\n",
    "Si se especifica el índice puede ver ese elemento en particular.\n",
    "'''\n",
    "# Borrar el último elemento de la lista.\n",
    "lcolores.pop()"
   ]
  },
  {
   "cell_type": "code",
   "execution_count": null,
   "id": "626fa82a",
   "metadata": {},
   "outputs": [],
   "source": [
    "lcolores"
   ]
  },
  {
   "cell_type": "code",
   "execution_count": null,
   "id": "5f2d4a45",
   "metadata": {},
   "outputs": [],
   "source": [
    "# Borrar el color 'Melón'\n",
    "lcolores.pop(2)"
   ]
  },
  {
   "cell_type": "code",
   "execution_count": null,
   "id": "eb476748",
   "metadata": {},
   "outputs": [],
   "source": [
    "lcolores"
   ]
  },
  {
   "cell_type": "code",
   "execution_count": null,
   "id": "b6c3412a",
   "metadata": {},
   "outputs": [],
   "source": [
    "'''\n",
    "remove(): este método recibe como argumento un elemento, \n",
    "y borra su primera aparición en la lista.\n",
    "'''\n",
    "# Borrar el color 'Anaranjado'\n",
    "lcolores.remove('Anaranjado')"
   ]
  },
  {
   "cell_type": "code",
   "execution_count": null,
   "id": "02001aa1",
   "metadata": {},
   "outputs": [],
   "source": [
    "lcolores"
   ]
  },
  {
   "cell_type": "code",
   "execution_count": null,
   "id": "407fc242",
   "metadata": {},
   "outputs": [],
   "source": [
    "# Borrar el color 'Café\n",
    "lcolores.remove('Café')"
   ]
  },
  {
   "cell_type": "code",
   "execution_count": null,
   "id": "9769219c",
   "metadata": {},
   "outputs": [],
   "source": [
    "lcolores"
   ]
  },
  {
   "cell_type": "code",
   "execution_count": null,
   "id": "7864af98",
   "metadata": {},
   "outputs": [],
   "source": [
    "'''\n",
    "reverse(): este método invierte el orden de los elementos de una lista.\n",
    "'''\n",
    "# Invertir el orden de los valores de la lista.\n",
    "lcolores.reverse()"
   ]
  },
  {
   "cell_type": "code",
   "execution_count": null,
   "id": "8854b03f",
   "metadata": {},
   "outputs": [],
   "source": [
    "lcolores"
   ]
  },
  {
   "cell_type": "code",
   "execution_count": null,
   "id": "aae3bc6e",
   "metadata": {},
   "outputs": [],
   "source": [
    "'''\n",
    "sort(): este método ordena los elementos de una lista.\n",
    "'''\n",
    "# Ordenar los valores de la lista de forma ascendente.\n",
    "lcolores.sort()"
   ]
  },
  {
   "cell_type": "code",
   "execution_count": null,
   "id": "2398146d",
   "metadata": {},
   "outputs": [],
   "source": [
    "# Menti 05"
   ]
  },
  {
   "cell_type": "code",
   "execution_count": null,
   "id": "45de8e18",
   "metadata": {},
   "outputs": [],
   "source": [
    "lcolores"
   ]
  },
  {
   "cell_type": "code",
   "execution_count": null,
   "id": "a48ace03",
   "metadata": {},
   "outputs": [],
   "source": [
    "# Ordenar los valoes de las lista de forma descendente.\n",
    "lcolores.sort(reverse = True)"
   ]
  },
  {
   "cell_type": "code",
   "execution_count": null,
   "id": "63eafbc2",
   "metadata": {},
   "outputs": [],
   "source": [
    "lcolores"
   ]
  },
  {
   "cell_type": "code",
   "execution_count": null,
   "id": "525d568b",
   "metadata": {},
   "outputs": [],
   "source": [
    "'''\n",
    "Funciones de agregado:\n",
    "Cuando los valores de las listas son de tipo numérico, es funcional usar \n",
    "funciones de agregado como:\n",
    "max(): Obtiene el número mayor de la lista.\n",
    "min(): Obtiene el número menor de la lista.\n",
    "sum(): Obtiene la súma de los valores de la lista.\n",
    "mean(): Obtiene el promedio de los valores de la lista.\n",
    "Para el uso del mean se tiene que importar la librería numpy.\n",
    "'''\n",
    "# Crear una lista con los siguientes números: 4, 6, 7, 12, 1, 2 , 9, 4\n",
    "lnumeros = [4, 6, 7, 12, 1, 2 , 9, 4]\n",
    "lnumeros"
   ]
  },
  {
   "cell_type": "code",
   "execution_count": null,
   "id": "3aec7a61",
   "metadata": {},
   "outputs": [],
   "source": [
    "# Obtener el valor máximo.\n",
    "max(lnumeros)"
   ]
  },
  {
   "cell_type": "code",
   "execution_count": null,
   "id": "3fcd4437",
   "metadata": {},
   "outputs": [],
   "source": [
    "max(lcolores)"
   ]
  },
  {
   "cell_type": "code",
   "execution_count": null,
   "id": "dc8e5bed",
   "metadata": {},
   "outputs": [],
   "source": [
    "# Obtener el valor mínimo.\n",
    "min(lnumeros)"
   ]
  },
  {
   "cell_type": "code",
   "execution_count": null,
   "id": "dead4ba8",
   "metadata": {},
   "outputs": [],
   "source": [
    "min(lcolores)"
   ]
  },
  {
   "cell_type": "code",
   "execution_count": null,
   "id": "d3ff7e8d",
   "metadata": {},
   "outputs": [],
   "source": [
    "# Obtener la suma.\n",
    "sum(lnumeros)"
   ]
  },
  {
   "cell_type": "code",
   "execution_count": null,
   "id": "d1295512",
   "metadata": {},
   "outputs": [],
   "source": [
    "sum(lcolores)"
   ]
  },
  {
   "cell_type": "code",
   "execution_count": null,
   "id": "e9eaec48",
   "metadata": {},
   "outputs": [],
   "source": [
    "'''\n",
    "import: instrucción que me permite importar librerías.\n",
    "\n",
    "numpy: es una librería de Python especializada en el cálculo numérico \n",
    "y el análisis de datos, especialmente para un gran volumen de datos.\n",
    "'''\n",
    "# Obtener el promedio.\n",
    "import numpy as np\n",
    "np.mean(lnumeros)"
   ]
  },
  {
   "cell_type": "code",
   "execution_count": null,
   "id": "55bac6ec",
   "metadata": {},
   "outputs": [],
   "source": [
    "# Menti 06"
   ]
  }
 ],
 "metadata": {
  "kernelspec": {
   "display_name": "Python 3 (ipykernel)",
   "language": "python",
   "name": "python3"
  },
  "language_info": {
   "codemirror_mode": {
    "name": "ipython",
    "version": 3
   },
   "file_extension": ".py",
   "mimetype": "text/x-python",
   "name": "python",
   "nbconvert_exporter": "python",
   "pygments_lexer": "ipython3",
   "version": "3.9.12"
  }
 },
 "nbformat": 4,
 "nbformat_minor": 5
}
