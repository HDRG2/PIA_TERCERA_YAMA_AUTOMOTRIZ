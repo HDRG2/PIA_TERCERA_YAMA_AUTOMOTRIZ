{
 "cells": [
  {
   "cell_type": "code",
   "execution_count": null,
   "id": "9539f289",
   "metadata": {},
   "outputs": [],
   "source": [
    "# Importar la librería de pandas\n",
    "import pandas as pd\n",
    "import numpy as np"
   ]
  },
  {
   "cell_type": "code",
   "execution_count": null,
   "id": "522ba313",
   "metadata": {},
   "outputs": [],
   "source": [
    "# Crear un diccionario de la facultad championship que contenga la carrera, la cantidad de alumnos y año.\n",
    "dfacultad = {\n",
    "    'Carrera':['Derecho','TI','Economia','Arquitectura','Derecho','TI','Economia','Arquitectura','TI','TI',np.nan],\n",
    "    'Cantidad':[2000,3500,4000,900,2500,3500,5000,1000,3500,200,np.nan],\n",
    "    'Año':[2023.0,2023.0,2023.0,2023.0,2024.0,2024.0,2024.0,2024.0,2023.0,20011.0,np.nan]\n",
    "}\n",
    "dfacultad"
   ]
  },
  {
   "cell_type": "code",
   "execution_count": null,
   "id": "5f93ec4f",
   "metadata": {},
   "outputs": [],
   "source": [
    "'''\n",
    "Para crear un DataFrame se sigue la siguiente estructura.\n",
    "Sintaxis:\n",
    "dfvariable = pd.DataFrame(diccionario)\n",
    "\n",
    "Nota: la palabra DataFrame debe ser tal cual se plasma en la sintaxis.\n",
    "'''\n",
    "dffacultad = pd.DataFrame(dfacultad)    "
   ]
  },
  {
   "cell_type": "code",
   "execution_count": 25,
   "id": "5818e853",
   "metadata": {},
   "outputs": [
    {
     "data": {
      "text/html": [
       "<div>\n",
       "<style scoped>\n",
       "    .dataframe tbody tr th:only-of-type {\n",
       "        vertical-align: middle;\n",
       "    }\n",
       "\n",
       "    .dataframe tbody tr th {\n",
       "        vertical-align: top;\n",
       "    }\n",
       "\n",
       "    .dataframe thead th {\n",
       "        text-align: right;\n",
       "    }\n",
       "</style>\n",
       "<table border=\"1\" class=\"dataframe\">\n",
       "  <thead>\n",
       "    <tr style=\"text-align: right;\">\n",
       "      <th></th>\n",
       "      <th>Carrera</th>\n",
       "      <th>Cantidad</th>\n",
       "      <th>Año</th>\n",
       "    </tr>\n",
       "  </thead>\n",
       "  <tbody>\n",
       "    <tr>\n",
       "      <th>0</th>\n",
       "      <td>Derecho</td>\n",
       "      <td>2000.0</td>\n",
       "      <td>2023.0</td>\n",
       "    </tr>\n",
       "    <tr>\n",
       "      <th>1</th>\n",
       "      <td>TI</td>\n",
       "      <td>3500.0</td>\n",
       "      <td>2023.0</td>\n",
       "    </tr>\n",
       "    <tr>\n",
       "      <th>2</th>\n",
       "      <td>Economia</td>\n",
       "      <td>4000.0</td>\n",
       "      <td>2023.0</td>\n",
       "    </tr>\n",
       "    <tr>\n",
       "      <th>3</th>\n",
       "      <td>Arquitectura</td>\n",
       "      <td>900.0</td>\n",
       "      <td>2023.0</td>\n",
       "    </tr>\n",
       "    <tr>\n",
       "      <th>4</th>\n",
       "      <td>Derecho</td>\n",
       "      <td>2500.0</td>\n",
       "      <td>2024.0</td>\n",
       "    </tr>\n",
       "    <tr>\n",
       "      <th>5</th>\n",
       "      <td>TI</td>\n",
       "      <td>3500.0</td>\n",
       "      <td>2024.0</td>\n",
       "    </tr>\n",
       "    <tr>\n",
       "      <th>6</th>\n",
       "      <td>Economia</td>\n",
       "      <td>5000.0</td>\n",
       "      <td>2024.0</td>\n",
       "    </tr>\n",
       "    <tr>\n",
       "      <th>7</th>\n",
       "      <td>Arquitectura</td>\n",
       "      <td>1000.0</td>\n",
       "      <td>2024.0</td>\n",
       "    </tr>\n",
       "    <tr>\n",
       "      <th>8</th>\n",
       "      <td>TI</td>\n",
       "      <td>3500.0</td>\n",
       "      <td>2023.0</td>\n",
       "    </tr>\n",
       "    <tr>\n",
       "      <th>9</th>\n",
       "      <td>TI</td>\n",
       "      <td>200.0</td>\n",
       "      <td>20011.0</td>\n",
       "    </tr>\n",
       "    <tr>\n",
       "      <th>10</th>\n",
       "      <td>NaN</td>\n",
       "      <td>NaN</td>\n",
       "      <td>NaN</td>\n",
       "    </tr>\n",
       "  </tbody>\n",
       "</table>\n",
       "</div>"
      ],
      "text/plain": [
       "         Carrera  Cantidad      Año\n",
       "0        Derecho    2000.0   2023.0\n",
       "1             TI    3500.0   2023.0\n",
       "2       Economia    4000.0   2023.0\n",
       "3   Arquitectura     900.0   2023.0\n",
       "4        Derecho    2500.0   2024.0\n",
       "5             TI    3500.0   2024.0\n",
       "6       Economia    5000.0   2024.0\n",
       "7   Arquitectura    1000.0   2024.0\n",
       "8             TI    3500.0   2023.0\n",
       "9             TI     200.0  20011.0\n",
       "10           NaN       NaN      NaN"
      ]
     },
     "execution_count": 25,
     "metadata": {},
     "output_type": "execute_result"
    }
   ],
   "source": [
    "dffacultad"
   ]
  },
  {
   "cell_type": "code",
   "execution_count": null,
   "id": "593b70b7",
   "metadata": {},
   "outputs": [],
   "source": [
    "'''\n",
    "columns: método que me indica las columnas de una DataFrame.\n",
    "'''\n",
    "dffacultad.columns"
   ]
  },
  {
   "cell_type": "code",
   "execution_count": null,
   "id": "b10eebe8",
   "metadata": {},
   "outputs": [],
   "source": [
    "'''\n",
    "Para mostrar una columna o columnas en específico solo hay que poner el nombre del \n",
    "DataFrame, paréntesis cuadrados[] y una lista [] de las columnas separadas por , a mostrar.\n",
    "'''\n",
    "# Mostrar una columna\n",
    "dffacultad['Carrera']"
   ]
  },
  {
   "cell_type": "code",
   "execution_count": null,
   "id": "b97932f9",
   "metadata": {},
   "outputs": [],
   "source": [
    "# Mostrar varias columnas\n",
    "dffacultad[['Carrera','Cantidad']]"
   ]
  },
  {
   "cell_type": "code",
   "execution_count": null,
   "id": "fdc96857",
   "metadata": {},
   "outputs": [],
   "source": [
    "'''\n",
    "drop_duplicates: eliminar los registros duplicados.\n",
    "\n",
    "Sintaxis:\n",
    "df.drop_duplicates()\n",
    "'''\n",
    "dffacultad"
   ]
  },
  {
   "cell_type": "code",
   "execution_count": null,
   "id": "f3f9dc76",
   "metadata": {},
   "outputs": [],
   "source": [
    "dffacultad = dffacultad.drop_duplicates()"
   ]
  },
  {
   "cell_type": "code",
   "execution_count": null,
   "id": "59516265",
   "metadata": {},
   "outputs": [],
   "source": [
    "dffacultad"
   ]
  },
  {
   "cell_type": "code",
   "execution_count": null,
   "id": "85eb7f59",
   "metadata": {},
   "outputs": [],
   "source": [
    "'''\n",
    "drop: sirve para eliminar filas o columnas.\n",
    "\n",
    "Sintaxis:\n",
    "df.drop([lista de índices], axis=0, inplace=True)\n",
    "\n",
    "inplace: True realiza la operación sobre el mismo DataFrame, lo sobreescribe.\n",
    "axis: 0 denota que son filas y 1 detona que son columnas.\n",
    "'''\n",
    "dffacultad.drop([9],axis = 0, inplace = True)"
   ]
  },
  {
   "cell_type": "code",
   "execution_count": null,
   "id": "1344a990",
   "metadata": {},
   "outputs": [],
   "source": [
    "dffacultad"
   ]
  },
  {
   "cell_type": "code",
   "execution_count": null,
   "id": "35b02fc8",
   "metadata": {},
   "outputs": [],
   "source": [
    "'''\n",
    "dropna: sirve para eliminar filas o columnas con valores nulos.\n",
    "\n",
    "Sintaxis:\n",
    "df.dropna(axis = 0/1,how='all'/'any')\n",
    "axis: 0 es filas, 1 es columnas.\n",
    "how: any es para eliminar fila o columna que tenga al menos un valor nulo.\n",
    "    all es para eliminar fila o columna siempre y cuando todos los valores sean nulos.\n",
    "'''\n",
    "# Eliminar las filas en donde todos sus valores sean nulos.\n",
    "dffacultad = dffacultad.dropna(axis = 0, how = 'all')"
   ]
  },
  {
   "cell_type": "code",
   "execution_count": null,
   "id": "e8ec1015",
   "metadata": {},
   "outputs": [],
   "source": [
    "'''\n",
    "dtypes: es un método que manda una lista con los tipos de datos de cada \n",
    "columna de DataFrame.\n",
    "Las columnas alfanuméricas se almacenan con el tipo de dato object que sería \n",
    "el equivalente a str.\n",
    "'''\n",
    "dffacultad.dtypes"
   ]
  },
  {
   "cell_type": "code",
   "execution_count": null,
   "id": "ec3c863e",
   "metadata": {},
   "outputs": [],
   "source": [
    "'''\n",
    "astype: método que permite definir los tipos de datos en un DataFrame.\n",
    "Sintaxis:\n",
    "df = df.astype(diccionario)\n",
    "'''\n",
    "dffacultad = dffacultad.astype({'Carrera':'object','Cantidad':'int64','Año':'int64'})"
   ]
  },
  {
   "cell_type": "code",
   "execution_count": null,
   "id": "4a917a6f",
   "metadata": {},
   "outputs": [],
   "source": [
    "# Menti 13"
   ]
  },
  {
   "cell_type": "code",
   "execution_count": null,
   "id": "e6c9efb8",
   "metadata": {},
   "outputs": [],
   "source": [
    "dffacultad.dtypes"
   ]
  },
  {
   "cell_type": "code",
   "execution_count": null,
   "id": "26df3bf1",
   "metadata": {},
   "outputs": [],
   "source": [
    "dffacultad"
   ]
  },
  {
   "cell_type": "code",
   "execution_count": null,
   "id": "4d905379",
   "metadata": {},
   "outputs": [],
   "source": [
    "'''\n",
    "head: devuelve las primeras n filas de nuestro DataFrame.\n",
    "Sintaxis:\n",
    "df.head(n)\n",
    "'''\n",
    "dffacultad.head(4)"
   ]
  },
  {
   "cell_type": "code",
   "execution_count": null,
   "id": "a95e6d7d",
   "metadata": {},
   "outputs": [],
   "source": [
    "'''\n",
    "tail: devuelve las últimas n filas de nuestro DataFrame.\n",
    "Sintaxis:\n",
    "df.tail(n)\n",
    "'''"
   ]
  },
  {
   "cell_type": "code",
   "execution_count": null,
   "id": "ebb5ce4e",
   "metadata": {},
   "outputs": [],
   "source": [
    "dffacultad.tail(4)"
   ]
  },
  {
   "cell_type": "code",
   "execution_count": null,
   "id": "aee3dff6",
   "metadata": {},
   "outputs": [],
   "source": [
    "'''\n",
    "at: método que me permite acceder a un valor en específico del DataFrame.\n",
    "'''\n",
    "dffacultad.at[1,'Cantidad']"
   ]
  },
  {
   "cell_type": "code",
   "execution_count": null,
   "id": "8c3327b3",
   "metadata": {},
   "outputs": [],
   "source": [
    "'''\n",
    "describe: permite generar estadísticas descriptivas como\n",
    "conteos\n",
    "media\n",
    "desviación stándar\n",
    "mínimo\n",
    "máximo\n",
    "cuartiles\n",
    "\n",
    "Sintaxis:\n",
    "df.describe()\n",
    "'''\n",
    "dffacultad.describe()"
   ]
  },
  {
   "cell_type": "code",
   "execution_count": null,
   "id": "b3c2dbc8",
   "metadata": {},
   "outputs": [],
   "source": [
    "'''\n",
    "Para hacer un describe de un campo o campos en específico se utiliza\n",
    "la siguiente sintaxis:\n",
    "df[[Lista de columnas]].describe()\n",
    "'''\n",
    "# Mostrar el describe del campo 'Cantidad'.\n",
    "dffacultad[['Cantidad']].describe()"
   ]
  },
  {
   "cell_type": "code",
   "execution_count": null,
   "id": "b28a0d92",
   "metadata": {},
   "outputs": [],
   "source": [
    "'''\n",
    "info: devuelve información (número de filas, número de columnas, índices, \n",
    "tipo de de dato de las columnas y memoria usado) sobre el DataFrame.\n",
    "\n",
    "Sintaxis:\n",
    "df.info()\n",
    "'''\n",
    "dffacultad.info()"
   ]
  },
  {
   "cell_type": "code",
   "execution_count": null,
   "id": "cdf74f32",
   "metadata": {},
   "outputs": [],
   "source": [
    "'''\n",
    "shape: devuelve una tupla con el número de filas y columnas del DataFrame.\n",
    "\n",
    "Sintaxis:\n",
    "df.shape\n",
    "'''\n",
    "dffacultad.shape"
   ]
  },
  {
   "cell_type": "code",
   "execution_count": null,
   "id": "c514e6dd",
   "metadata": {},
   "outputs": [],
   "source": [
    "'''\n",
    "size: devuelve el número de elementos del DataFrame.\n",
    "\n",
    "Sintaxis:\n",
    "df.size\n",
    "'''\n",
    "dffacultad.size"
   ]
  },
  {
   "cell_type": "code",
   "execution_count": null,
   "id": "e3e1d4d0",
   "metadata": {},
   "outputs": [],
   "source": [
    "'''\n",
    "count: cuenta la cantidad de elementos que no son nulos.\n",
    "\n",
    "Sintaxis:\n",
    "Todo el df\n",
    "df.count()\n",
    "\n",
    "Columnas en específico\n",
    "df[[Lista de columnas]].count()\n",
    "'''\n",
    "dffacultad.count()"
   ]
  },
  {
   "cell_type": "code",
   "execution_count": null,
   "id": "0e7e68a7",
   "metadata": {},
   "outputs": [],
   "source": [
    "dffacultad[['Carrera']].count()"
   ]
  },
  {
   "cell_type": "code",
   "execution_count": null,
   "id": "2b563bc9",
   "metadata": {},
   "outputs": [],
   "source": [
    "# Menti 14"
   ]
  },
  {
   "cell_type": "code",
   "execution_count": null,
   "id": "63ac6b45",
   "metadata": {},
   "outputs": [],
   "source": [
    "'''\n",
    "sum: suma los valores de las columnas.\n",
    "\n",
    "Sintaxis:\n",
    "Todo el df\n",
    "df.sum()\n",
    "\n",
    "Columnas en específico\n",
    "df[[Lista de columnas]].sum()\n",
    "'''\n",
    "dffacultad.sum()"
   ]
  },
  {
   "cell_type": "code",
   "execution_count": null,
   "id": "5dbed5be",
   "metadata": {},
   "outputs": [],
   "source": [
    "dffacultad[['Cantidad']].sum()"
   ]
  },
  {
   "cell_type": "code",
   "execution_count": null,
   "id": "a5a33bb0",
   "metadata": {},
   "outputs": [],
   "source": [
    "'''\n",
    "min: muestra el valor mínimo de una columna.\n",
    "\n",
    "Sintaxis:\n",
    "Todo el df\n",
    "df.min()\n",
    "\n",
    "Columnas en específico\n",
    "df[[Lista de columnas]].min()\n",
    "'''\n",
    "dffacultad.min()"
   ]
  },
  {
   "cell_type": "code",
   "execution_count": null,
   "id": "ef8d10da",
   "metadata": {},
   "outputs": [],
   "source": [
    "dffacultad[['Cantidad']].min()"
   ]
  },
  {
   "cell_type": "code",
   "execution_count": null,
   "id": "74c5415f",
   "metadata": {},
   "outputs": [],
   "source": [
    "'''\n",
    "max: muestra el valor máximo de una columna.\n",
    "\n",
    "Sintaxis:\n",
    "Todo el df\n",
    "df.max()\n",
    "\n",
    "Columnas en específico\n",
    "df[[Lista de columnas]].max()\n",
    "'''\n",
    "dffacultad.max()"
   ]
  },
  {
   "cell_type": "code",
   "execution_count": null,
   "id": "692a3701",
   "metadata": {},
   "outputs": [],
   "source": [
    "dffacultad[['Cantidad']].max()"
   ]
  },
  {
   "cell_type": "code",
   "execution_count": null,
   "id": "3f5a900c",
   "metadata": {},
   "outputs": [],
   "source": [
    "'''\n",
    "mean: muestra la media de una columna. Las columnas tiene que ser\n",
    "int o float.\n",
    "\n",
    "Sintaxis:\n",
    "df[[Lista de columnas]].mean()\n",
    "'''\n",
    "dffacultad[['Cantidad']].mean()"
   ]
  },
  {
   "cell_type": "code",
   "execution_count": null,
   "id": "f327edad",
   "metadata": {},
   "outputs": [],
   "source": [
    "'''\n",
    "Consultas:\n",
    "Se pueden realizar consultas sobre la información de los DataFrame\n",
    "por lo general, aunque no es obligatorio, las consultas se guardan\n",
    "en una variable y luego se muestran.\n",
    "'''\n",
    "# Consultar los registros en donde el año sea 2024.\n",
    "con1 = dffacultad[dffacultad['Año'] == 2024]\n",
    "con1"
   ]
  },
  {
   "cell_type": "code",
   "execution_count": null,
   "id": "98d9c4a3",
   "metadata": {},
   "outputs": [],
   "source": [
    "# Consultar los registros en donde la cantidad de alumnos sean mayor a 2000.\n",
    "con2 = dffacultad[['Carrera','Año']][dffacultad['Cantidad'] > 2000]\n",
    "con2\n"
   ]
  },
  {
   "cell_type": "code",
   "execution_count": null,
   "id": "0099e159",
   "metadata": {},
   "outputs": [],
   "source": [
    "# Consultar todos los registros excepto los de la carrear de TI,\n",
    "con3 = dffacultad[dffacultad['Carrera'] != 'TI']\n",
    "con3"
   ]
  },
  {
   "cell_type": "code",
   "execution_count": null,
   "id": "f0aa9d30",
   "metadata": {},
   "outputs": [],
   "source": [
    "# Consultar la cantidad de alumnos de la carrera de Derecho en 2023\n",
    "# Cuando son dos condiciones, cada condición se encierrar entre paréntesis\n",
    "con4 = dffacultad[(dffacultad['Carrera'] == 'Derecho') & (dffacultad['Año'] == 2023)]\n",
    "con4"
   ]
  },
  {
   "cell_type": "code",
   "execution_count": null,
   "id": "68c7c0c0",
   "metadata": {},
   "outputs": [],
   "source": [
    "# Importar la librería matplotlib\n",
    "import matplotlib.pyplot as plt"
   ]
  },
  {
   "cell_type": "code",
   "execution_count": null,
   "id": "a0a3e11a",
   "metadata": {},
   "outputs": [],
   "source": [
    "'''\n",
    "Crear una gráfica de barras verticales en donde muestre los alumnos \n",
    "por año.\n",
    "'''\n",
    "\n",
    "# Definir la figura\n",
    "fig, ejes = plt.subplots()\n",
    "# Definir los ejes X y Y\n",
    "# El método bar es para indicar que queremos una gráfica / diagrama de barras.\n",
    "ejes.barh(dffacultad['Carrera'],dffacultad['Cantidad'])\n",
    "#width = 0.1\n",
    "ejes.set_xlabel(\"Carrera\")\n",
    "ejes.set_ylabel(\"Cantidad de alumnos\")\n",
    "ejes.set_title(\"Cantidad de alumnos por año\")\n",
    "#Mostrar\n",
    "plt.show()"
   ]
  },
  {
   "cell_type": "code",
   "execution_count": null,
   "id": "b2066870",
   "metadata": {},
   "outputs": [],
   "source": [
    "'''\n",
    "Crear una gráfica de barras horizontales en donde muestre los alumnos por carrera.\n",
    "'''\n",
    "\n",
    "# Definir la figura\n",
    "fig, ejes = plt.subplots()\n",
    "# Definir los ejes X y Y\n",
    "# El método barh es para indicar que queremos una gráfica / diagrama de barras horizontal.\n",
    "ejes.barh(dffacultad['Año'],dffacultad['Cantidad'],color = \"#4CAF50\",height = 0.1 )\n",
    "#red, #4CAF50\n",
    "# color = \"hotpink\" \n",
    "# height = 0.1\n",
    "ejes.set_xlabel(\"Alumnos\")\n",
    "ejes.set_ylabel(\"Año\")\n",
    "ejes.set_title(\"Cantidad de alumnos por Carrera\")\n",
    "#Mostrar\n",
    "plt.show()"
   ]
  },
  {
   "cell_type": "code",
   "execution_count": null,
   "id": "9576df66",
   "metadata": {},
   "outputs": [],
   "source": []
  },
  {
   "cell_type": "code",
   "execution_count": null,
   "id": "7c9c3969",
   "metadata": {},
   "outputs": [],
   "source": [
    "# Menti 15"
   ]
  },
  {
   "cell_type": "code",
   "execution_count": null,
   "id": "486365cb",
   "metadata": {},
   "outputs": [],
   "source": []
  }
 ],
 "metadata": {
  "kernelspec": {
   "display_name": "Python 3 (ipykernel)",
   "language": "python",
   "name": "python3"
  },
  "language_info": {
   "codemirror_mode": {
    "name": "ipython",
    "version": 3
   },
   "file_extension": ".py",
   "mimetype": "text/x-python",
   "name": "python",
   "nbconvert_exporter": "python",
   "pygments_lexer": "ipython3",
   "version": "3.9.12"
  }
 },
 "nbformat": 4,
 "nbformat_minor": 5
}
